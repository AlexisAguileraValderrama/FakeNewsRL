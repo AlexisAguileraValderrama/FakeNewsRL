{
 "cells": [
  {
   "cell_type": "code",
   "execution_count": 32,
   "id": "17a4e458",
   "metadata": {},
   "outputs": [
    {
     "name": "stdout",
     "output_type": "stream",
     "text": [
      "Biden visits Iraq in show of support amid multiple crises\n",
      "RAPPER Who Met With Obama In White House To Strategize, Tweets Threat: “Dear white people if Trump wins young niggas such as myself are fully hell bent on inciting riots everywhere we go”\n",
      "Raqqa campaign in final stages, SDF says\n",
      " WATCH: Nicolle Wallace Takes Trump To The Woodshed For Backing Pedophile Moore\n",
      "Clinton, Sanders audition for role as anti-Trump candidate\n",
      "ALT-LEFT PLANS TO HIJACK PRESIDENT TRUMP’S AZ RALLY…Will He Really Make Them Crazy By Announcing Pardon For America’s Toughest Sheriff on Illegal Immigration?\n",
      "Illinois lawmakers delay bill to expand abortion as veto looms\n",
      "Hungarian villagers in backlash against holiday for migrants\n",
      "TOXIC CULTURE: ‘Suicide (Skank) Squad’ Film\n",
      "COLLEGE STUDENTS EXPRESS DISGUST In Trump’s “First 100 Days”…Until They Find Out Interviewer Was Talking About Obama [VIDEO]\n"
     ]
    }
   ],
   "source": [
    "from WebScrapper import WebScrapper\n",
    "import threading\n",
    "import pandas as pd\n",
    "import pickle\n",
    "dataFrameNews = pd.read_csv(r\"/home/serapf/Desktop/FakeNewsRL/PythonCode/data/DataFakeNews.csv\")\n",
    "for index, row in dataFrameNews[0:10].iterrows():\n",
    "    print(row['title'])"
   ]
  },
  {
   "cell_type": "code",
   "execution_count": 14,
   "id": "dc96fe44",
   "metadata": {},
   "outputs": [],
   "source": [
    "# import the threading module\n",
    "import threading\n",
    "\n",
    "from WebScrapper import WebScrapper\n",
    "import threading\n",
    "import pandas as pd\n",
    "import pickle\n",
    "\n",
    "\n",
    "chunkList = []\n",
    "\n",
    "class thread_news(threading.Thread):\n",
    "    \n",
    "    def __init__(self, thread_name, thread_ID, dataFrameNews,begin, end):\n",
    "        threading.Thread.__init__(self)\n",
    "        self.thread_name = thread_name\n",
    "        self.thread_ID = thread_ID\n",
    "        self.dataFrameNews = dataFrameNews[begin:end]\n",
    "        self.webScrapper = WebScrapper()\n",
    "        \n",
    "        self.begin = begin\n",
    "        self.end = end\n",
    "        \n",
    " \n",
    "        # helper function to execute the threads\n",
    "    def run(self):\n",
    "        global chunkList\n",
    "        chunk = []\n",
    "        for index, row in self.dataFrameNews[self.begin:self.end].iterrows():\n",
    "            title = row['title']\n",
    "            label = row['label']\n",
    "            #Buscar en la web el termino del titulo\n",
    "            status = self.webScrapper.ChargeFromWeb(title)\n",
    "            #Si no encuentra ningun resultado reinicia\n",
    "            if not status:\n",
    "                return\n",
    "            \n",
    "            sents_list = []\n",
    "            \n",
    "            while True:\n",
    "                status = self.webScrapper.GotoNextWebPage()\n",
    "                \n",
    "                if status == 0:\n",
    "                    break\n",
    "                \n",
    "                if status == 1:\n",
    "                    try:\n",
    "                      text = self.webScrapper.GetLoadedHTML()\n",
    "                      doc = self.nlp(text)\n",
    "                      sents = [sentence for sentence in doc.sents]\n",
    "                      if len(sents)>0:\n",
    "                        sents_list.append(sents)\n",
    "                    except:\n",
    "                      print(\"Hubo problemas al parsear el html\")\n",
    "        \n",
    "            dict = {'title':title,'label':label,'data':sents_list}\n",
    "            chunk.append(dict)\n",
    "            \n",
    "        chunkList.append(chunk)\n",
    "                        \n",
    "            \n",
    "            "
   ]
  },
  {
   "cell_type": "code",
   "execution_count": null,
   "id": "8c3ded7c",
   "metadata": {},
   "outputs": [],
   "source": []
  },
  {
   "cell_type": "code",
   "execution_count": null,
   "id": "9e2c795b",
   "metadata": {},
   "outputs": [],
   "source": [
    "ChunkList"
   ]
  },
  {
   "cell_type": "code",
   "execution_count": 24,
   "id": "8d949ab6",
   "metadata": {},
   "outputs": [],
   "source": [
    "d = {'title': [],'label':[], '0': [],'1': [],'2': [],'3': [],'4': [],'5': [],'6': [],'7': [],'8': [], '9':[], '10':[]}\n",
    "df = pd.DataFrame(data=d)"
   ]
  },
  {
   "cell_type": "code",
   "execution_count": 25,
   "id": "78a80e43",
   "metadata": {},
   "outputs": [
    {
     "data": {
      "text/html": [
       "<div>\n",
       "<style scoped>\n",
       "    .dataframe tbody tr th:only-of-type {\n",
       "        vertical-align: middle;\n",
       "    }\n",
       "\n",
       "    .dataframe tbody tr th {\n",
       "        vertical-align: top;\n",
       "    }\n",
       "\n",
       "    .dataframe thead th {\n",
       "        text-align: right;\n",
       "    }\n",
       "</style>\n",
       "<table border=\"1\" class=\"dataframe\">\n",
       "  <thead>\n",
       "    <tr style=\"text-align: right;\">\n",
       "      <th></th>\n",
       "      <th>title</th>\n",
       "      <th>label</th>\n",
       "      <th>0</th>\n",
       "      <th>1</th>\n",
       "      <th>2</th>\n",
       "      <th>3</th>\n",
       "      <th>4</th>\n",
       "      <th>5</th>\n",
       "      <th>6</th>\n",
       "      <th>7</th>\n",
       "      <th>8</th>\n",
       "      <th>9</th>\n",
       "      <th>10</th>\n",
       "    </tr>\n",
       "  </thead>\n",
       "  <tbody>\n",
       "  </tbody>\n",
       "</table>\n",
       "</div>"
      ],
      "text/plain": [
       "Empty DataFrame\n",
       "Columns: [title, label, 0, 1, 2, 3, 4, 5, 6, 7, 8, 9, 10]\n",
       "Index: []"
      ]
     },
     "execution_count": 25,
     "metadata": {},
     "output_type": "execute_result"
    }
   ],
   "source": [
    "df"
   ]
  },
  {
   "cell_type": "code",
   "execution_count": null,
   "id": "af3829f3",
   "metadata": {},
   "outputs": [],
   "source": []
  }
 ],
 "metadata": {
  "kernelspec": {
   "display_name": "Python 3 (ipykernel)",
   "language": "python",
   "name": "python3"
  },
  "language_info": {
   "codemirror_mode": {
    "name": "ipython",
    "version": 3
   },
   "file_extension": ".py",
   "mimetype": "text/x-python",
   "name": "python",
   "nbconvert_exporter": "python",
   "pygments_lexer": "ipython3",
   "version": "3.9.12"
  }
 },
 "nbformat": 4,
 "nbformat_minor": 5
}
