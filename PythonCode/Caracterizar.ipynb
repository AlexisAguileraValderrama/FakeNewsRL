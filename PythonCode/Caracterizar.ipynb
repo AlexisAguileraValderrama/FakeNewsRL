{
 "cells": [
  {
   "cell_type": "code",
   "execution_count": 23,
   "id": "3ecec611",
   "metadata": {},
   "outputs": [
    {
     "name": "stdout",
     "output_type": "stream",
     "text": [
      "/home/serapf/Desktop/FakeNewsRL/PythonCode\n"
     ]
    }
   ],
   "source": [
    "import os\n",
    "print(os.getcwd())    \n",
    "\n",
    "with open(\"/home/serapf/Desktop/FakeNewsRL/chunk_0-50\", \"rb\") as fp:   # Unpickling\n",
    "    chunk = pickle.load(fp)\n",
    "\n",
    "with open(\"/home/serapf/Desktop/FakeNewsRL/chunk_50-500\", \"rb\") as fp:   # Unpickling\n",
    "    chunk1 = pickle.load(fp)\n",
    "\n",
    "with open(\"/home/serapf/Desktop/FakeNewsRL/chunk_500-1000\", \"rb\") as fp:   # Unpickling\n",
    "    chunk2 = pickle.load(fp)\n",
    "\n",
    "with open(\"/home/serapf/Desktop/FakeNewsRL/chunk_1000-1500\", \"rb\") as fp:   # Unpickling\n",
    "    chunk3 = pickle.load(fp)"
   ]
  },
  {
   "cell_type": "code",
   "execution_count": 24,
   "id": "e3cbc2b1",
   "metadata": {},
   "outputs": [],
   "source": [
    "# using + operator to concat\n",
    "total_chunk = chunk + chunk1 + chunk2 + chunk3"
   ]
  },
  {
   "cell_type": "code",
   "execution_count": 26,
   "id": "242430f1",
   "metadata": {},
   "outputs": [],
   "source": [
    "with open(f'chunk_0-1500', \"wb\") as fp:   #Pickling\n",
    "   pickle.dump(total_chunk, fp)"
   ]
  },
  {
   "cell_type": "code",
   "execution_count": null,
   "id": "da025f2c",
   "metadata": {},
   "outputs": [],
   "source": []
  },
  {
   "cell_type": "code",
   "execution_count": 29,
   "id": "6f5b13f6",
   "metadata": {},
   "outputs": [],
   "source": [
    "import pickle\n",
    "import random\n"
   ]
  },
  {
   "cell_type": "code",
   "execution_count": 30,
   "id": "eb97de9b",
   "metadata": {},
   "outputs": [],
   "source": [
    "chunks_path = '/home/serapf/Desktop/FakeNewsRL/chunk_0-1500'\n",
    "\n",
    "with open(chunks_path, \"rb\") as fp:   # Unpickling\n",
    "    dataChunk = pickle.load(fp)"
   ]
  },
  {
   "cell_type": "code",
   "execution_count": 32,
   "id": "b4809797",
   "metadata": {},
   "outputs": [
    {
     "data": {
      "text/plain": [
       "1370"
      ]
     },
     "execution_count": 32,
     "metadata": {},
     "output_type": "execute_result"
    }
   ],
   "source": [
    "len(dataChunk)"
   ]
  },
  {
   "cell_type": "code",
   "execution_count": 35,
   "id": "5325f10d",
   "metadata": {},
   "outputs": [
    {
     "name": "stdout",
     "output_type": "stream",
     "text": [
      "1370\n",
      "667\n",
      "6664\n",
      "703\n",
      "7014\n",
      "1164\n"
     ]
    }
   ],
   "source": [
    "counter_true = 0\n",
    "counter_false = 0\n",
    "\n",
    "counter_true_articles = 0\n",
    "counter_false_articles = 0\n",
    "\n",
    "for dic in dataChunk:\n",
    "    if dic['label']:\n",
    "        counter_true = counter_true + 1\n",
    "        counter_true_articles = counter_true_articles + len(dic['data'])\n",
    "    else:\n",
    "        counter_false = counter_false + 1\n",
    "        counter_false_articles = counter_false_articles + len(dic['data'])\n",
    "\n",
    "print(len(dataChunk))\n",
    "        \n",
    "print(counter_true)\n",
    "print(counter_true_articles)\n",
    "print(counter_false)\n",
    "print(counter_false_articles)\n",
    "\n",
    "train_factor = int(len(dataChunk) * 0.85)\n",
    "print(train_factor)"
   ]
  },
  {
   "cell_type": "code",
   "execution_count": 39,
   "id": "37fe9a93",
   "metadata": {},
   "outputs": [
    {
     "name": "stdout",
     "output_type": "stream",
     "text": [
      "1164\n",
      "563\n",
      "5626\n",
      "601\n",
      "5994\n"
     ]
    }
   ],
   "source": [
    "train_chunk = dataChunk[:train_factor]\n",
    "counter_true = 0\n",
    "counter_false = 0\n",
    "\n",
    "counter_true_articles = 0\n",
    "counter_false_articles = 0\n",
    "\n",
    "for dic in train_chunk:\n",
    "    if dic['label']:\n",
    "        counter_true = counter_true + 1\n",
    "        counter_true_articles = counter_true_articles + len(dic['data'])\n",
    "    else:\n",
    "        counter_false = counter_false + 1\n",
    "        counter_false_articles = counter_false_articles + len(dic['data'])\n",
    "\n",
    "print(len(train_chunk))\n",
    "        \n",
    "print(counter_true)\n",
    "print(counter_true_articles)\n",
    "print(counter_false)\n",
    "print(counter_false_articles)\n",
    "\n",
    "with open(f'train_chunk_0-{train_factor}', \"wb\") as fp:   #Pickling\n",
    "   pickle.dump(train_chunk, fp)"
   ]
  },
  {
   "cell_type": "code",
   "execution_count": 40,
   "id": "7c1fa3db",
   "metadata": {},
   "outputs": [
    {
     "name": "stdout",
     "output_type": "stream",
     "text": [
      "206\n",
      "104\n",
      "1038\n",
      "102\n",
      "1020\n"
     ]
    }
   ],
   "source": [
    "test_chunk = dataChunk[train_factor:]\n",
    "counter_true = 0\n",
    "counter_false = 0\n",
    "\n",
    "counter_true_articles = 0\n",
    "counter_false_articles = 0\n",
    "\n",
    "for dic in test_chunk:\n",
    "    if dic['label']:\n",
    "        counter_true = counter_true + 1\n",
    "        counter_true_articles = counter_true_articles + len(dic['data'])\n",
    "    else:\n",
    "        counter_false = counter_false + 1\n",
    "        counter_false_articles = counter_false_articles + len(dic['data'])\n",
    "\n",
    "print(len(test_chunk))\n",
    "        \n",
    "print(counter_true)\n",
    "print(counter_true_articles)\n",
    "print(counter_false)\n",
    "print(counter_false_articles)\n",
    "with open(f'test_chunk_{train_factor}-{len(dataChunk)}', \"wb\") as fp:   #Pickling\n",
    "   pickle.dump(test_chunk, fp)"
   ]
  },
  {
   "cell_type": "code",
   "execution_count": null,
   "id": "8c96830b",
   "metadata": {},
   "outputs": [],
   "source": []
  }
 ],
 "metadata": {
  "kernelspec": {
   "display_name": "Python 3",
   "language": "python",
   "name": "python3"
  },
  "language_info": {
   "codemirror_mode": {
    "name": "ipython",
    "version": 3
   },
   "file_extension": ".py",
   "mimetype": "text/x-python",
   "name": "python",
   "nbconvert_exporter": "python",
   "pygments_lexer": "ipython3",
   "version": "3.8.10"
  }
 },
 "nbformat": 4,
 "nbformat_minor": 5
}
